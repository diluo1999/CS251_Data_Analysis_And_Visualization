{
 "cells": [
  {
   "cell_type": "markdown",
   "metadata": {},
   "source": [
    "# Lab 3: Linear Regression\n",
    "\n",
    "## Task 1. Analyze Mystery Data 1\n",
    "\n",
    "### 1a) Use scipy to calculate the linear regression for Mystery Data 1 \n",
    "\n",
    "1. Import data 'data/mystery_data_1.csv' (using your data class or [genfromtxt](https://docs.scipy.org/doc/numpy/reference/generated/numpy.genfromtxt.html))\n",
    "2. Print first 10 lines rows of data.\n",
    "3. Calculate the linear regression [scipy.linalg.lstsq](https://docs.scipy.org/doc/scipy/reference/generated/scipy.linalg.lstsq.html)\n",
    "    1. The x column is the left hand side array and the y column is the right hand side array.\n",
    "    2. This includes adding homogeneous coordinates (for the intercept) to the A matrix. \n",
    "    3. Useful methods: [hstack](https://docs.scipy.org/doc/numpy/reference/generated/numpy.hstack.html), [ones](https://docs.scipy.org/doc/numpy/reference/generated/numpy.ones.html) and [reshape](https://docs.scipy.org/doc/numpy/reference/generated/numpy.reshape.html)\n",
    "4. Print the least-squares solution and residual\n",
    "5. Using the residual, calculate and print the $R^2$ value\n",
    "    1. $R^2 = 1 - \\frac{residues}{smd}$\n",
    "    2. The square mean deviation: $smd = \\sum (y - \\frac{\\sum y}{n} )^2$"
   ]
  },
  {
   "cell_type": "code",
   "execution_count": 2,
   "metadata": {},
   "outputs": [
    {
     "name": "stdout",
     "output_type": "stream",
     "text": [
      "The first 10 rows:\n",
      "[[ 9.185  0.536]\n",
      " [29.323 -3.209]\n",
      " [26.767  2.751]\n",
      " [17.792 -2.81 ]\n",
      " [14.624  2.409]\n",
      " [ 8.078  3.677]\n",
      " [ 3.736 -3.28 ]\n",
      " [10.999 -2.997]\n",
      " [18.113 -3.055]\n",
      " [ 3.33  -0.443]]\n",
      "\n",
      "c: [-0.05650709  0.92884793]\n",
      "\n",
      "residuals: 3722.8001542015754\n",
      "\n",
      "r2: 0.033824411486558126\n",
      "\n",
      "-----------------------------------\n",
      "Your results should look like this:\n",
      "-----------------------------------\n",
      "First 10 rows:\n",
      "[[ 9.185  0.536]\n",
      " [29.323 -3.209]\n",
      " [26.767  2.751]\n",
      " [17.792 -2.81 ]\n",
      " [14.624  2.409]\n",
      " [ 8.078  3.677]\n",
      " [ 3.736 -3.28 ]\n",
      " [10.999 -2.997]\n",
      " [18.113 -3.055]\n",
      " [ 3.33  -0.443]]\n",
      " \n",
      "c: [-0.05650709  0.92884793]\n",
      "\n",
      "residuals: 3722.8001542015754\n",
      "\n",
      "r2: 0.033824411486558126\n",
      "-----------------------------------\n",
      "\n"
     ]
    }
   ],
   "source": [
    "import numpy as np\n",
    "import scipy.linalg\n",
    "import matplotlib.pyplot as plt\n",
    "import data\n",
    "\n",
    "# Import data 'data/mystery_data_1.csv' using your data class\n",
    "m = data.Data(filepath='data/mystery_data_1.csv')\n",
    "\n",
    "# Print first 10 lines rows of data\n",
    "print(f'The first 10 rows:\\n{m.data[:10,:]}\\n')\n",
    "\n",
    "# Calculate the linear regression\n",
    "N = m.get_num_samples()\n",
    "homo = np.ones([N,1])\n",
    "A = np.hstack((m.data[:,0].reshape(N,1), homo))\n",
    "c, res, rnk, s = scipy.linalg.lstsq(A, m.data[:,1])\n",
    "print(f'c: {c}\\n')\n",
    "print(f'residuals: {res}\\n')\n",
    "\n",
    "# Using the residual, calculate and print the R^2 value\n",
    "smd = np.sum(np.square(m.data[:,1]-(np.sum(m.data[:,1])/N)))\n",
    "r2 = 1 - (res/smd)\n",
    "print(f'r2: {r2}')\n",
    "\n",
    "\n",
    "print('''\n",
    "-----------------------------------\n",
    "Your results should look like this:\n",
    "-----------------------------------\n",
    "First 10 rows:\n",
    "[[ 9.185  0.536]\n",
    " [29.323 -3.209]\n",
    " [26.767  2.751]\n",
    " [17.792 -2.81 ]\n",
    " [14.624  2.409]\n",
    " [ 8.078  3.677]\n",
    " [ 3.736 -3.28 ]\n",
    " [10.999 -2.997]\n",
    " [18.113 -3.055]\n",
    " [ 3.33  -0.443]]\n",
    " \n",
    "c: [-0.05650709  0.92884793]\n",
    "\n",
    "residuals: 3722.8001542015754\n",
    "\n",
    "r2: 0.033824411486558126\n",
    "-----------------------------------\n",
    "''')"
   ]
  },
  {
   "cell_type": "markdown",
   "metadata": {},
   "source": [
    "### 1b) Visualize linear regression results with matplotlib\n",
    "\n",
    "1. Plot a scatterplot of the mystery data with X on the x axis and Y on the y axis\n",
    "2. Plot a line representing the linear regression by predicting 100 values using your least-squares solution\n",
    "    1. For line_x, use [linspace](https://docs.scipy.org/doc/numpy/reference/generated/numpy.linspace.html) to create 100 points from the min x value to the max x value\n",
    "    2. For line_y, multiply line_x by the slope (first weight) and add the intercept (second weight)\n",
    "3. Include a title (with $R^2$ value), legend, x label and y label\n",
    "\n",
    "### 1c)  Interpret the results of the linear regression of the dataset \n",
    "\n",
    "Interpret the results based on your plot and $R^2$ value. Is the linear regression model a good model for the data? Why?"
   ]
  },
  {
   "cell_type": "code",
   "execution_count": 3,
   "metadata": {},
   "outputs": [
    {
     "data": {
      "text/plain": [
       "Text(0, 0.5, 'Y')"
      ]
     },
     "execution_count": 3,
     "metadata": {},
     "output_type": "execute_result"
    },
    {
     "data": {
      "image/png": "[encoded data removed]",
      "text/plain": [
       "<Figure size 432x288 with 1 Axes>"
      ]
     },
     "metadata": {
      "needs_background": "light"
     },
     "output_type": "display_data"
    }
   ],
   "source": [
    "scatter = plt.scatter(m.data[:,0], m.data[:,1], label='mystery_data_1')\n",
    "line_x = np.linspace(np.min(m.data[:,0]), np.max(m.data[:,0]), num=100)\n",
    "line_y = line_x*c[0]+c[1]\n",
    "l = plt.plot(line_x, line_y, c='green',label='Linear regression')\n",
    "plt.title('Mystery_data_1 (R^2=0.0338)')\n",
    "plt.legend()\n",
    "plt.xlabel('X')\n",
    "plt.ylabel('Y')"
   ]
  },
  {
   "cell_type": "markdown",
   "metadata": {},
   "source": [
    "I think the linear regression is not a good model for the data since the actual shape of the data, which is not linear, differentiates from the linear regression. The low R^2 value further prove the invalidity of the linear regression being a model in this case."
   ]
  },
  {
   "cell_type": "markdown",
   "metadata": {},
   "source": [
    "## Task 2: Analyze Mystery Data 2\n",
    "\n",
    "### 2a) Use scipy to calculate the linear regression for Mystery Data 2 \n",
    "\n",
    "1. Import data 'data/mystery_data_2.csv'\n",
    "2. Print first 10 lines rows of data.\n",
    "3. Calculate the linear regression, print the least-squares solution and residual\n",
    "4. Using the residual, calculate and print the $R^2$ value"
   ]
  },
  {
   "cell_type": "code",
   "execution_count": 4,
   "metadata": {},
   "outputs": [
    {
     "name": "stdout",
     "output_type": "stream",
     "text": [
      "The first 10 rows:\n",
      "[[0.7236 2.4275]\n",
      " [0.5807 2.3386]\n",
      " [0.1229 1.4442]\n",
      " [0.4115 2.2227]\n",
      " [0.9684 2.9695]\n",
      " [0.4728 2.1713]\n",
      " [0.0312 1.233 ]\n",
      " [0.7044 2.3956]\n",
      " [0.7069 2.5637]\n",
      " [0.5147 2.2832]]\n",
      "\n",
      "c: [1.99521566 1.0122057 ]\n",
      "\n",
      "residuals: 8.422356778623062\n",
      "\n",
      "r2: 0.7920134233003179\n",
      "\n",
      "-----------------------------------\n",
      "Your results should look like this:\n",
      "-----------------------------------\n",
      "First 10 rows:\n",
      "[[0.7236 2.4275]\n",
      " [0.5807 2.3386]\n",
      " [0.1229 1.4442]\n",
      " [0.4115 2.2227]\n",
      " [0.9684 2.9695]\n",
      " [0.4728 2.1713]\n",
      " [0.0312 1.233 ]\n",
      " [0.7044 2.3956]\n",
      " [0.7069 2.5637]\n",
      " [0.5147 2.2832]]\n",
      " \n",
      "c: [1.99521566 1.0122057 ]\n",
      "\n",
      "residuals: 8.422356778623062\n",
      "\n",
      "r2: 0.7920134233003179\n",
      "-----------------------------------\n",
      "\n"
     ]
    }
   ],
   "source": [
    "# Import data 'data/mystery_data_2.csv' using your data class\n",
    "m2 = data.Data(filepath='data/mystery_data_2.csv')\n",
    "\n",
    "# Print first 10 lines rows of data\n",
    "print(f'The first 10 rows:\\n{m2.data[:10,:]}\\n')\n",
    "\n",
    "# Calculate the linear regression\n",
    "N2 = m2.get_num_samples()\n",
    "homo2 = np.ones([N2,1])\n",
    "A2 = np.hstack((m2.data[:,0].reshape(N2,1), homo2))\n",
    "c2, res2, rnk2, s2 = scipy.linalg.lstsq(A2, m2.data[:,1])\n",
    "print(f'c: {c2}\\n')\n",
    "print(f'residuals: {res2}\\n')\n",
    "\n",
    "# Using the residual, calculate and print the R^2 value\n",
    "smd2 = np.sum(np.square(m2.data[:,1]-(np.sum(m2.data[:,1])/N2)))\n",
    "r2_2 = 1 - (res2/smd2)\n",
    "print(f'r2: {r2_2}')\n",
    "\n",
    "print('''\n",
    "-----------------------------------\n",
    "Your results should look like this:\n",
    "-----------------------------------\n",
    "First 10 rows:\n",
    "[[0.7236 2.4275]\n",
    " [0.5807 2.3386]\n",
    " [0.1229 1.4442]\n",
    " [0.4115 2.2227]\n",
    " [0.9684 2.9695]\n",
    " [0.4728 2.1713]\n",
    " [0.0312 1.233 ]\n",
    " [0.7044 2.3956]\n",
    " [0.7069 2.5637]\n",
    " [0.5147 2.2832]]\n",
    " \n",
    "c: [1.99521566 1.0122057 ]\n",
    "\n",
    "residuals: 8.422356778623062\n",
    "\n",
    "r2: 0.7920134233003179\n",
    "-----------------------------------\n",
    "''')"
   ]
  },
  {
   "cell_type": "markdown",
   "metadata": {},
   "source": [
    "### 2b) Visualize linear regression results with matplotlib\n",
    "\n",
    "1. Plot a scatterplot of the mystery data with X on the x axis and Y on the y axis\n",
    "2. Plot a line representing the linear regression\n",
    "3. Include a title (with $R^2$ value), legend, x label and y label\n",
    "\n",
    "### 2c)  Interpret the results of the linear regression of the dataset \n",
    "\n",
    "Interpret the results based on your plot and $R^2$ value. Is the linear regression model a good model for the data? Why?"
   ]
  },
  {
   "cell_type": "code",
   "execution_count": 5,
   "metadata": {},
   "outputs": [
    {
     "data": {
      "text/plain": [
       "Text(0, 0.5, 'Y')"
      ]
     },
     "execution_count": 5,
     "metadata": {},
     "output_type": "execute_result"
    },
    {
     "data": {
      "image/png": "[encoded data removed]",
      "text/plain": [
       "<Figure size 432x288 with 1 Axes>"
      ]
     },
     "metadata": {
      "needs_background": "light"
     },
     "output_type": "display_data"
    }
   ],
   "source": [
    "satter2 = plt.scatter(m2.data[:,0], m2.data[:,1], label='Mystery_data_2')\n",
    "line_x2 = np.linspace(np.min(m2.data[:,0]), np.max(m2.data[:,0]), num=100)\n",
    "line_y2 = line_x2*c2[0]+c2[1]\n",
    "l2 = plt.plot(line_x2, line_y2, c='green',label='Linear regression')\n",
    "plt.title('Mystery_data_2 (R^2=0.792)')\n",
    "plt.legend()\n",
    "plt.xlabel('X')\n",
    "plt.ylabel('Y')"
   ]
  },
  {
   "cell_type": "markdown",
   "metadata": {},
   "source": [
    "Yes, the linear regression clearly shows the positive proportional relationship between X and Y. The high R^2 value further prove the validity of the linear regression being a model in this case."
   ]
  },
  {
   "cell_type": "markdown",
   "metadata": {},
   "source": [
    "## Task 3: Analyze Mystery Data 3\n",
    "\n",
    "### 3a) Use scipy to calculate the linear regression for Mystery Data 3 \n",
    "\n",
    "1. Import data 'data/mystery_data_2.csv'\n",
    "2. Print first 10 lines rows of data.\n",
    "3. Calculate the linear regression, print the least-squares solution and residual\n",
    "4. Using the residual, calculate and print the $R^2$ value"
   ]
  },
  {
   "cell_type": "code",
   "execution_count": 6,
   "metadata": {},
   "outputs": [
    {
     "name": "stdout",
     "output_type": "stream",
     "text": [
      "The first 10 rows:\n",
      "[[  7.1   77.4 ]\n",
      " [  2.21  56.95]\n",
      " [  2.6   19.84]\n",
      " [ 19.4  110.62]\n",
      " [ 10.5  119.47]\n",
      " [  4.8   76.39]\n",
      " [  4.64  18.15]\n",
      " [ 10.3   73.1 ]\n",
      " [  1.99  74.79]\n",
      " [  0.86  74.79]]\n",
      "\n",
      "c: [ 3.51214435 43.255079  ]\n",
      "\n",
      "residuals: 998020.861783321\n",
      "\n",
      "r2: 0.0751204137773247\n",
      "\n",
      "-----------------------------------\n",
      "Your results should look like this:\n",
      "-----------------------------------\n",
      "First 10 rows:\n",
      "[[  7.1   77.4 ]\n",
      " [  2.21  56.95]\n",
      " [  2.6   19.84]\n",
      " [ 19.4  110.62]\n",
      " [ 10.5  119.47]\n",
      " [  4.8   76.39]\n",
      " [  4.64  18.15]\n",
      " [ 10.3   73.1 ]\n",
      " [  1.99  74.79]\n",
      " [  0.86  74.79]]\n",
      " \n",
      "c: [ 3.51214435 43.255079  ]\n",
      "\n",
      "residuals: 998020.861783321\n",
      "\n",
      "r2: 0.0751204137773247\n",
      "-----------------------------------\n",
      "\n"
     ]
    }
   ],
   "source": [
    "# Import data 'data/mystery_data_3.csv' using your data class\n",
    "m3 = data.Data(filepath='data/mystery_data_3.csv')\n",
    "\n",
    "# Print first 10 lines rows of data\n",
    "print(f'The first 10 rows:\\n{m3.data[:10,:]}\\n')\n",
    "\n",
    "# Calculate the linear regression\n",
    "N3 = m3.get_num_samples()\n",
    "homo3 = np.ones([N3,1])\n",
    "A3 = np.hstack((m3.data[:,0].reshape(N3,1), homo3))\n",
    "c3, res3, rnk3, s3 = scipy.linalg.lstsq(A3, m3.data[:,1])\n",
    "print(f'c: {c3}\\n')\n",
    "print(f'residuals: {res3}\\n')\n",
    "\n",
    "# Using the residual, calculate and print the R^2 value\n",
    "smd3 = np.sum(np.square(m3.data[:,1]-(np.sum(m3.data[:,1])/N3)))\n",
    "r2_3 = 1 - (res3/smd3)\n",
    "print(f'r2: {r2_3}')\n",
    "\n",
    "print('''\n",
    "-----------------------------------\n",
    "Your results should look like this:\n",
    "-----------------------------------\n",
    "First 10 rows:\n",
    "[[  7.1   77.4 ]\n",
    " [  2.21  56.95]\n",
    " [  2.6   19.84]\n",
    " [ 19.4  110.62]\n",
    " [ 10.5  119.47]\n",
    " [  4.8   76.39]\n",
    " [  4.64  18.15]\n",
    " [ 10.3   73.1 ]\n",
    " [  1.99  74.79]\n",
    " [  0.86  74.79]]\n",
    " \n",
    "c: [ 3.51214435 43.255079  ]\n",
    "\n",
    "residuals: 998020.861783321\n",
    "\n",
    "r2: 0.0751204137773247\n",
    "-----------------------------------\n",
    "''')"
   ]
  },
  {
   "cell_type": "markdown",
   "metadata": {},
   "source": [
    "### 3b) Visualize linear regression results with matplotlib\n",
    "\n",
    "1. Plot a scatterplot of the mystery data with X on the x axis and Y on the y axis\n",
    "2. Plot a line representing the linear regression\n",
    "3. Include a title (with $R^2$ value), legend, x label and y label\n",
    "\n",
    "### 3c)  Interpret the results of the linear regression of the dataset \n",
    "\n",
    "Interpret the results based on your plot and $R^2$ value. Is the linear regression model a good model for the data? Why?"
   ]
  },
  {
   "cell_type": "code",
   "execution_count": 10,
   "metadata": {},
   "outputs": [
    {
     "data": {
      "text/plain": [
       "Text(0, 0.5, 'Y')"
      ]
     },
     "execution_count": 10,
     "metadata": {},
     "output_type": "execute_result"
    },
    {
     "data": {
      "image/png": "[encoded data removed]",
      "text/plain": [
       "<Figure size 432x288 with 1 Axes>"
      ]
     },
     "metadata": {
      "needs_background": "light"
     },
     "output_type": "display_data"
    }
   ],
   "source": [
    "satter3 = plt.scatter(m3.data[:,0], m3.data[:,1], label='Mystery_data_3')\n",
    "line_x3 = np.linspace(np.min(m3.data[:,0]), np.max(m3.data[:,0]), num=100)\n",
    "line_y3 = line_x3*c3[0]+c3[1]\n",
    "l3 = plt.plot(line_x3, line_y3, c='green',label='Linear regression')\n",
    "plt.title('Mystery_data_3 (R^2=0.0751)')\n",
    "plt.legend()\n",
    "plt.xlabel('X')\n",
    "plt.ylabel('Y')"
   ]
  },
  {
   "cell_type": "markdown",
   "metadata": {},
   "source": [
    "No since the original data doesn't show a concrete relationship between X and Y, so that the linear regression is not a good model for prediction. In addition, there are a lot of leverages in the data (the data points that differentiate a lot from most of the data), which makes the data meaningless to be modeled by linear regression. The low R^2 value further prove the invalidity of the linear regression being a model in this case."
   ]
  },
  {
   "cell_type": "code",
   "execution_count": null,
   "metadata": {},
   "outputs": [],
   "source": []
  }
 ],
 "metadata": {
  "kernelspec": {
   "display_name": "Python 3",
   "language": "python",
   "name": "python3"
  },
  "language_info": {
   "codemirror_mode": {
    "name": "ipython",
    "version": 3
   },
   "file_extension": ".py",
   "mimetype": "text/x-python",
   "name": "python",
   "nbconvert_exporter": "python",
   "pygments_lexer": "ipython3",
   "version": "3.8.1"
  }
 },
 "nbformat": 4,
 "nbformat_minor": 4
}
